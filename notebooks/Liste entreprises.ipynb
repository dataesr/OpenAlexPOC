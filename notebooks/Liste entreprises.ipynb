{
 "cells": [
  {
   "cell_type": "code",
   "execution_count": 20,
   "id": "b7d8228e",
   "metadata": {},
   "outputs": [],
   "source": [
    "import pandas as pd\n",
    "from SPARQLWrapper import SPARQLWrapper, JSON\n",
    "\n",
    "sparqlwd = SPARQLWrapper(\"https://query.wikidata.org/sparql\")\n",
    "myid = \"wd:Q22673982\"\n",
    "\n",
    "query = \"\"\"\n",
    "SELECT ?item ?itemLabel \n",
    "WHERE \n",
    "{\n",
    "  ?item wdt:P31 wd:Q891723. # doit avoir comme nature 'public company'\n",
    "  SERVICE wikibase:label { bd:serviceParam wikibase:language \"[AUTO_LANGUAGE],en\". } # le label viendra de préférence dans votre langue, et autrement en anglais\n",
    "}\n",
    "\"\"\"\n",
    "\n",
    "sparqlwd.setQuery(query)\n",
    "sparqlwd.setReturnFormat(JSON)\n",
    "results = sparqlwd.query().convert()"
   ]
  },
  {
   "cell_type": "code",
   "execution_count": 69,
   "id": "e813376d",
   "metadata": {},
   "outputs": [],
   "source": [
    "liste_public_company = []\n",
    "for r in results['results']['bindings']:\n",
    "    liste_public_company.append({'name': r['itemLabel']['value'], 'source': 'wikidata', 'type': 'public company'})\n",
    "df_public_company = pd.DataFrame(liste_public_company)"
   ]
  },
  {
   "cell_type": "markdown",
   "id": "0bcb31b1",
   "metadata": {},
   "source": [
    "# scanR"
   ]
  },
  {
   "cell_type": "code",
   "execution_count": 36,
   "id": "cd5e5e6c",
   "metadata": {},
   "outputs": [],
   "source": [
    "import ast"
   ]
  },
  {
   "cell_type": "code",
   "execution_count": 22,
   "id": "ad9add2f",
   "metadata": {},
   "outputs": [],
   "source": [
    "df_scanr = pd.read_csv('https://data.enseignementsup-recherche.gouv.fr/api/explore/v2.1/catalog/datasets/export-des-organisations-exposees-dans-scanr/exports/csv?lang=fr&timezone=Europe%2FBerlin&use_labels=true&delimiter=%3B', sep=';')"
   ]
  },
  {
   "cell_type": "code",
   "execution_count": 54,
   "id": "23f05f87",
   "metadata": {},
   "outputs": [],
   "source": [
    "def parse(x):\n",
    "    try:\n",
    "        return ast.literal_eval(x)\n",
    "    except:\n",
    "        return None"
   ]
  },
  {
   "cell_type": "code",
   "execution_count": 56,
   "id": "1da146d1",
   "metadata": {},
   "outputs": [
    {
     "name": "stderr",
     "output_type": "stream",
     "text": [
      "<ipython-input-56-6c503d98849c>:3: SettingWithCopyWarning: \n",
      "A value is trying to be set on a copy of a slice from a DataFrame.\n",
      "Try using .loc[row_indexer,col_indexer] = value instead\n",
      "\n",
      "See the caveats in the documentation: https://pandas.pydata.org/pandas-docs/stable/user_guide/indexing.html#returning-a-view-versus-a-copy\n",
      "  df_entreprises_scanr['badges_p'] = df_scanr.badges.apply(lambda x:parse(x))\n",
      "<ipython-input-56-6c503d98849c>:4: SettingWithCopyWarning: \n",
      "A value is trying to be set on a copy of a slice from a DataFrame.\n",
      "Try using .loc[row_indexer,col_indexer] = value instead\n",
      "\n",
      "See the caveats in the documentation: https://pandas.pydata.org/pandas-docs/stable/user_guide/indexing.html#returning-a-view-versus-a-copy\n",
      "  df_entreprises_scanr['label_p'] = df_scanr.label.apply(lambda x:parse(x))\n"
     ]
    }
   ],
   "source": [
    "df_entreprises_scanr = df_scanr[(df_scanr.isFrench==1) & (df_scanr.kind=='Secteur privé')]\n",
    "\n",
    "df_entreprises_scanr['badges_p'] = df_scanr.badges.apply(lambda x:parse(x))\n",
    "df_entreprises_scanr['label_p'] = df_scanr.label.apply(lambda x:parse(x))\n",
    "\n",
    "#df_entreprises_scanr_badge = df_entreprises_scanr[df_entreprises_scanr.badges.apply(lambda x:isinstance(get_list(x), list))]"
   ]
  },
  {
   "cell_type": "code",
   "execution_count": 66,
   "id": "9e043e4b",
   "metadata": {},
   "outputs": [],
   "source": [
    "data_scanr_badges = []\n",
    "for row in df_entreprises_scanr[['label_p', 'badges_p']].dropna().itertuples():\n",
    "    elt = {'name': row.label_p['default'], 'source': 'scanR', 'type': ';'.join(list(set([b['code'] for b in row.badges_p])))}\n",
    "    data_scanr_badges.append(elt)\n",
    "df_scanr_small = pd.DataFrame(data_scanr_badges)#.type.value_counts()"
   ]
  },
  {
   "cell_type": "code",
   "execution_count": 73,
   "id": "256a1832",
   "metadata": {},
   "outputs": [],
   "source": [
    "pd.concat([df_scanr_small, df_public_company]).to_csv('liste_entreprises.csv', sep=';')"
   ]
  },
  {
   "cell_type": "code",
   "execution_count": null,
   "id": "e56fe394",
   "metadata": {},
   "outputs": [],
   "source": []
  }
 ],
 "metadata": {
  "kernelspec": {
   "display_name": "Python 3",
   "language": "python",
   "name": "python3"
  },
  "language_info": {
   "codemirror_mode": {
    "name": "ipython",
    "version": 3
   },
   "file_extension": ".py",
   "mimetype": "text/x-python",
   "name": "python",
   "nbconvert_exporter": "python",
   "pygments_lexer": "ipython3",
   "version": "3.9.1"
  }
 },
 "nbformat": 4,
 "nbformat_minor": 5
}
